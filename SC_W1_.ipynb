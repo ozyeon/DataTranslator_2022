{
  "nbformat": 4,
  "nbformat_minor": 0,
  "metadata": {
    "colab": {
      "name": "SC_W1_.ipynb",
      "provenance": [],
      "collapsed_sections": [],
      "include_colab_link": true
    },
    "kernelspec": {
      "name": "python3",
      "display_name": "Python 3"
    },
    "language_info": {
      "name": "python"
    },
    "accelerator": "GPU",
    "gpuClass": "standard"
  },
  "cells": [
    {
      "cell_type": "markdown",
      "metadata": {
        "id": "view-in-github",
        "colab_type": "text"
      },
      "source": [
        "<a href=\"https://colab.research.google.com/github/ozyeon/DataTranslator_2022/blob/main/SC_W1_.ipynb\" target=\"_parent\"><img src=\"https://colab.research.google.com/assets/colab-badge.svg\" alt=\"Open In Colab\"/></a>"
      ]
    },
    {
      "cell_type": "markdown",
      "source": [
        "1. 자료구조의 이해: list, tuple"
      ],
      "metadata": {
        "id": "qoComHmXuil6"
      }
    },
    {
      "cell_type": "code",
      "execution_count": null,
      "metadata": {
        "id": "PPVveTxiuh52"
      },
      "outputs": [],
      "source": [
        "list1 = [ 1, 2, 3]\n",
        "tuple1 = ( 1, 2, 3)\n",
        "\n",
        "list1[ 0 ] = 10\n",
        "#tuple1[ 0 ] = 10 #오류 발생\n",
        "\n",
        "len(list1)  #리스트의 값의 개수\n",
        "list1 * 3 #수치계산은 지원 안됨\n",
        "\n",
        "list2 = [ [1,2], [3,4] ]  #리스트의 리스트, 2차원 자료를 표현"
      ]
    },
    {
      "cell_type": "code",
      "source": [
        "list3 = [110,90,100]\n",
        "\n",
        "print(list3)\n",
        "print(list3[1])       # 인덱싱\n",
        "print(list3[1:3])     # 슬라이싱\n",
        "\n",
        "# 아래 수정 사항은 튜플에서는 불가능함! #\n",
        "list3.append(\"abc\")   # 어펜드\n",
        "list3.append(list1)\n",
        "list3[4] = 0\n",
        "list3[3] = 1\n",
        "\n",
        "print(list3)\n",
        "list3*2   # 리스트는 수치계산 지원 못함"
      ],
      "metadata": {
        "colab": {
          "base_uri": "https://localhost:8080/"
        },
        "id": "KykIkQUB-RbH",
        "outputId": "ec4ee46e-77a8-4f17-de82-00007d15af91"
      },
      "execution_count": null,
      "outputs": [
        {
          "output_type": "stream",
          "name": "stdout",
          "text": [
            "[110, 90, 100]\n",
            "90\n",
            "[90, 100]\n",
            "[110, 90, 100, 1, 0]\n"
          ]
        },
        {
          "output_type": "execute_result",
          "data": {
            "text/plain": [
              "[110, 90, 100, 1, 0, 110, 90, 100, 1, 0]"
            ]
          },
          "metadata": {},
          "execution_count": 7
        }
      ]
    },
    {
      "cell_type": "markdown",
      "source": [
        "2. 자료구조의 이해: set, dictionary"
      ],
      "metadata": {
        "id": "nOA00yDsujd2"
      }
    },
    {
      "cell_type": "code",
      "source": [
        "set1 = { 1,2,3 }\n",
        "#set1[ 0 ]  #set는 순서가 없음\n",
        "\n",
        "dic1 = {'key1': 'value1', 'key2': 'value2'} #dictionary는 key:value 구조\n",
        "dic2 = {0: 1}\n"
      ],
      "metadata": {
        "id": "4zJVvMlMujmK"
      },
      "execution_count": null,
      "outputs": []
    },
    {
      "cell_type": "markdown",
      "source": [
        "3. 조건문과 반복문"
      ],
      "metadata": {
        "id": "hwO6Su7eujtC"
      }
    },
    {
      "cell_type": "code",
      "source": [
        "a = 10\n",
        "if a> 5 :\n",
        "  print(\"a is greater than 5\")\n",
        "\n",
        "if a>5:\n",
        "  if a<10:\n",
        "    print(\"5<a<10\")\n",
        "  else:\n",
        "    print(\"a>=10\")\n",
        "\n",
        "if a>10:\n",
        "  print(\"a>10\")\n",
        "else:\n",
        "  print(\"a<=10\")\n",
        "\n",
        "if a<5:\n",
        "  print(\"a<5\")\n",
        "elif a<10:\n",
        "  print(\"5<=a<10\")\n",
        "elif a<15:\n",
        "  print(\"10<=a<15\")\n",
        "else:\n",
        "  print(\"???\")\n",
        "\n",
        "list3 = [ 11, 12, 13, 14, 15, 16, 17, 18]\n",
        "for i in list3:\n",
        "  print(i)\n",
        "\n",
        "\n",
        "for i in list3:\n",
        "  if i >14:\n",
        "    print(i)\n",
        "\n",
        "#리스트와 반복문\n",
        "result = []\n",
        "for i in list3:\n",
        "  result.append(i*3)  #리스트.append(값)\n",
        "\n",
        "#위와 동일한 리스트 생성하는 표현\n",
        "[ i*3 for i in list3 ]\n",
        "\n",
        "#리스트와 반복문+조건문\n",
        "result2 = []\n",
        "for i in list3:\n",
        "  if i > 15:\n",
        "    result2.append(i*3)\n",
        "\n",
        "#위와 동일한 리스트 생성하는 표현\n",
        "[ i*3 for i in list3 if i>15 ]\n"
      ],
      "metadata": {
        "colab": {
          "base_uri": "https://localhost:8080/"
        },
        "id": "E7ERHdOyuj0F",
        "outputId": "ec005af7-7a9d-42f7-d47c-835e3a47d57a"
      },
      "execution_count": null,
      "outputs": [
        {
          "output_type": "stream",
          "name": "stdout",
          "text": [
            "a is greater than 5\n",
            "a>=10\n",
            "a<=10\n",
            "10<=a<15\n",
            "11\n",
            "12\n",
            "13\n",
            "14\n",
            "15\n",
            "16\n",
            "17\n",
            "18\n",
            "15\n",
            "16\n",
            "17\n",
            "18\n"
          ]
        },
        {
          "output_type": "execute_result",
          "data": {
            "text/plain": [
              "[48, 51, 54]"
            ]
          },
          "metadata": {},
          "execution_count": 20
        }
      ]
    },
    {
      "cell_type": "code",
      "source": [
        "list4=[5,4,7,8,9]\n",
        "print(list4)\n",
        "\n",
        "# 리스트 인덱싱 후 값 변경\n",
        "list4[2] = 10\n",
        "print(list4)\n",
        "\n",
        "# 리스트 슬라이싱\n",
        "print(list4[2:4])\n",
        "\n",
        "# 반복문 실행\n",
        "for i in list4:\n",
        "  print(i+5)\n",
        "\n",
        "# list4의 각각의 값에 5를 더한 list5 생성\n",
        "list5 = []\n",
        "for i in list4:\n",
        "  list5.append(i+5)\n",
        "\n",
        "print(list5)\n",
        "\n",
        "[i+5 for i in list4]    # 위 반복문과 같은 연산을 하는 한 줄의 코드"
      ],
      "metadata": {
        "colab": {
          "base_uri": "https://localhost:8080/"
        },
        "id": "oWvjkPIJCNFy",
        "outputId": "1a91f103-3e9e-4189-c54c-d4dcd5b54c98"
      },
      "execution_count": null,
      "outputs": [
        {
          "output_type": "stream",
          "name": "stdout",
          "text": [
            "[5, 4, 7, 8, 9]\n",
            "[5, 4, 10, 8, 9]\n",
            "[10, 8]\n",
            "10\n",
            "9\n",
            "15\n",
            "13\n",
            "14\n",
            "[10, 9, 15, 13, 14]\n"
          ]
        },
        {
          "output_type": "execute_result",
          "data": {
            "text/plain": [
              "[10, 9, 15, 13, 14]"
            ]
          },
          "metadata": {},
          "execution_count": 16
        }
      ]
    },
    {
      "cell_type": "markdown",
      "source": [
        "4. 패키지를 불러오기와 함수 정의"
      ],
      "metadata": {
        "id": "q0P91wkXuj5-"
      }
    },
    {
      "cell_type": "code",
      "source": [
        "import numpy\n",
        "\n",
        "#numpy의 array 함수 사용 시\n",
        "numpy.array #namespace\n",
        "\n",
        "import numpy as np\n",
        "#numpy의 array 함수 사용 시\n",
        "np.array\n",
        "\n",
        "from numpy import array\n",
        "#numpy의 array 함수 사용 시\n",
        "array\n",
        "\n",
        "def myfunction( input ):\n",
        "  print(input)\n",
        "  return( input*3 )\n",
        "\n",
        "myfunction( 10 )\n",
        "myfunction( list1 )\n"
      ],
      "metadata": {
        "colab": {
          "base_uri": "https://localhost:8080/"
        },
        "id": "dJx6NKFwukBQ",
        "outputId": "3cc6c6e2-3542-48ff-f147-55d7d8a3340d"
      },
      "execution_count": null,
      "outputs": [
        {
          "output_type": "stream",
          "name": "stdout",
          "text": [
            "10\n",
            "[10, 2, 3]\n"
          ]
        },
        {
          "output_type": "execute_result",
          "data": {
            "text/plain": [
              "[10, 2, 3, 10, 2, 3, 10, 2, 3]"
            ]
          },
          "metadata": {},
          "execution_count": 9
        }
      ]
    },
    {
      "cell_type": "markdown",
      "source": [
        "5.matplotlib 이용 시각화"
      ],
      "metadata": {
        "id": "rkRLAPD_ukHH"
      }
    },
    {
      "cell_type": "code",
      "source": [
        "import matplotlib.pyplot as plt\n",
        "\n",
        "plt.plot( [1,2,3], [10,20, 30]) #(1,10), (2,20), (3,30) 3개좌표를 선으로 연결\n",
        "plt.show()\n",
        "\n",
        "plt.scatter( [1,2,3], [10,20, 30])#(1,10), (2,20), (3,30) 3개좌표를 점으로..\n",
        "plt.show()"
      ],
      "metadata": {
        "colab": {
          "base_uri": "https://localhost:8080/",
          "height": 513
        },
        "id": "H3mKwkd7ukNh",
        "outputId": "769ab315-ddb6-481c-e6cf-ba683d809955"
      },
      "execution_count": null,
      "outputs": [
        {
          "output_type": "display_data",
          "data": {
            "text/plain": [
              "<Figure size 432x288 with 1 Axes>"
            ],
            "image/png": "[encoded data removed]"
          },
          "metadata": {
            "needs_background": "light"
          }
        },
        {
          "output_type": "display_data",
          "data": {
            "text/plain": [
              "<Figure size 432x288 with 1 Axes>"
            ],
            "image/png": "[encoded data removed]"
          },
          "metadata": {
            "needs_background": "light"
          }
        }
      ]
    },
    {
      "cell_type": "markdown",
      "source": [
        "6. 예외처리: try: except:"
      ],
      "metadata": {
        "id": "tSdBZsZNukTw"
      }
    },
    {
      "cell_type": "code",
      "source": [
        "try:\n",
        "  #set1[0]=1\n",
        "  print(\"여기에 내용을\")\n",
        "except:\n",
        "  print(\"위에서 오류가 나면 여기가 출력\")\n",
        "\n",
        "for i in [3,2,1,0]:\n",
        "  try:\n",
        "    print(\"5를 \", i,\"로 나누면:\", 5/i )\n",
        "  except:\n",
        "    print(i,\"으로는 못나눈다고....\")"
      ],
      "metadata": {
        "colab": {
          "base_uri": "https://localhost:8080/"
        },
        "id": "Q-QI_MZpukaE",
        "outputId": "d44150f9-7544-4800-b858-3f51799278b3"
      },
      "execution_count": null,
      "outputs": [
        {
          "output_type": "stream",
          "name": "stdout",
          "text": [
            "여기에 내용을\n",
            "5를  3 로 나누면: 1.6666666666666667\n",
            "5를  2 로 나누면: 2.5\n",
            "5를  1 로 나누면: 5.0\n",
            "0 으로는 못나눈다고....\n"
          ]
        }
      ]
    },
    {
      "cell_type": "markdown",
      "source": [
        "7. numpy 이해"
      ],
      "metadata": {
        "id": "JkcMBZWTukf1"
      }
    },
    {
      "cell_type": "code",
      "source": [
        "import numpy as np\n",
        "\n",
        "arr1 = np.array([1,3,5,7,9])\n",
        "arr1"
      ],
      "metadata": {
        "colab": {
          "base_uri": "https://localhost:8080/"
        },
        "id": "9r_al5saKEPJ",
        "outputId": "be9edad5-6fac-42f1-b8bd-b3f29b2c7ce8"
      },
      "execution_count": null,
      "outputs": [
        {
          "output_type": "execute_result",
          "data": {
            "text/plain": [
              "array([1, 3, 5, 7, 9])"
            ]
          },
          "metadata": {},
          "execution_count": 17
        }
      ]
    },
    {
      "cell_type": "code",
      "source": [
        "arr0 = np.array([2,4,6,8,10])\n",
        "arr0*5    # array는 연산이 바로 적용됨"
      ],
      "metadata": {
        "colab": {
          "base_uri": "https://localhost:8080/"
        },
        "id": "n11apyXdKNRQ",
        "outputId": "1a3d2d65-32dd-4e65-da45-4c08a82777b2"
      },
      "execution_count": null,
      "outputs": [
        {
          "output_type": "execute_result",
          "data": {
            "text/plain": [
              "array([10, 20, 30, 40, 50])"
            ]
          },
          "metadata": {},
          "execution_count": 19
        }
      ]
    },
    {
      "cell_type": "code",
      "source": [
        "arr1.shape  # (5,) -> 1차원, 값이 5개\n",
        "\n",
        "arr2 = np.array([[1,4],[7,5]])\n",
        "arr2.shape  # (2, 2) -> 2차원, 행이 2개, 열이 2개\n",
        "\n",
        "arr3 = np.array([[[1,4],[7,5]],[[1,4],[7,5]]])\n",
        "arr3.shape  # (2, 2, 2)"
      ],
      "metadata": {
        "colab": {
          "base_uri": "https://localhost:8080/"
        },
        "id": "3o92naSIMCOf",
        "outputId": "1a567de5-90e6-475a-ec53-bfb4398136eb"
      },
      "execution_count": null,
      "outputs": [
        {
          "output_type": "execute_result",
          "data": {
            "text/plain": [
              "(2, 2, 2)"
            ]
          },
          "metadata": {},
          "execution_count": 26
        }
      ]
    },
    {
      "cell_type": "code",
      "source": [
        "import numpy as np\n",
        "\n",
        "arr1 = np.array( [ 1,3,5,7,9])\n",
        "arr1.shape    # (5, )   1차원, 값이 5개\n",
        "\n",
        "arr2 = np.array( [ [1,2,3], [4,5,6]])\n",
        "arr2.shape \n",
        "\n",
        "arr3 = np.arange(10) #0~9까지의 정수 생성, 1차원 array가 나옴\n",
        "arr3.reshape(2,5) #2행 5열짜리 array로 변경\n",
        "\n",
        "arr1* 3\n",
        "arr2* 3\n",
        "arr1 * arr1 #같은 index 값끼리 곱\n",
        "np.matmul(arr1, arr1) #행렬곱"
      ],
      "metadata": {
        "colab": {
          "base_uri": "https://localhost:8080/"
        },
        "id": "tR_ASXOJuklz",
        "outputId": "216c5989-f750-4f1e-d590-5604b16fe175"
      },
      "execution_count": null,
      "outputs": [
        {
          "output_type": "execute_result",
          "data": {
            "text/plain": [
              "165"
            ]
          },
          "metadata": {},
          "execution_count": 27
        }
      ]
    },
    {
      "cell_type": "code",
      "source": [
        "import numpy as np\n",
        "arr1 = np.array( [[2,11],[5,1],[10,3]]) # 2차원 array\n",
        "arr2 = arr1.reshape( 6 )  # 1차원 array\n",
        "arr3 = arr2.reshape( 2,3) # 2차원 array\n",
        "arr3\n",
        "\n",
        "arr2[2:4] # 1차원 array는 리스트와 동일하게 인덱싱, 슬라이싱 가능\n",
        "arr3[0,2] # 2차원 array의 인덱싱(1행 3열)\n",
        "arr3[0:2, 1:3] # 2차원 array의 슬라이싱"
      ],
      "metadata": {
        "colab": {
          "base_uri": "https://localhost:8080/"
        },
        "id": "1RavnbVWDc57",
        "outputId": "24ab3516-851d-49e3-b26e-c3ffb992158b"
      },
      "execution_count": null,
      "outputs": [
        {
          "output_type": "execute_result",
          "data": {
            "text/plain": [
              "array([[11,  5],\n",
              "       [10,  3]])"
            ]
          },
          "metadata": {},
          "execution_count": 2
        }
      ]
    },
    {
      "cell_type": "markdown",
      "source": [
        "8.numpy의 인덱싱과 슬라이싱"
      ],
      "metadata": {
        "id": "nTf1pdHfukrg"
      }
    },
    {
      "cell_type": "code",
      "source": [
        "arr1[ 1:3] \n",
        "arr2[  :, 0]  #1열\n",
        "arr2[ 1, : ]  #2행\n",
        "arr2[ 0:1, 1:3] #1행 2-3열"
      ],
      "metadata": {
        "colab": {
          "base_uri": "https://localhost:8080/"
        },
        "id": "YASYJnXpukxU",
        "outputId": "5826d9ca-cdf4-4ea7-c20d-a4e02a37b0b5"
      },
      "execution_count": null,
      "outputs": [
        {
          "output_type": "execute_result",
          "data": {
            "text/plain": [
              "array([[2, 3]])"
            ]
          },
          "metadata": {},
          "execution_count": 39
        }
      ]
    },
    {
      "cell_type": "code",
      "source": [
        "arr4 = np.array([[5,7,3],[4,2,1],[9,8,1]])\n",
        "arr4\n",
        "\n",
        "arr4[1,2]\n",
        "arr4[1:3, 0:2]"
      ],
      "metadata": {
        "colab": {
          "base_uri": "https://localhost:8080/"
        },
        "id": "WmIzDu6Zmx6T",
        "outputId": "68fc34f3-1697-42e3-9022-5f292001bbca"
      },
      "execution_count": null,
      "outputs": [
        {
          "output_type": "execute_result",
          "data": {
            "text/plain": [
              "array([[4, 2],\n",
              "       [9, 8]])"
            ]
          },
          "metadata": {},
          "execution_count": 6
        }
      ]
    },
    {
      "cell_type": "markdown",
      "source": [
        "9. numpy의 주요 함수"
      ],
      "metadata": {
        "id": "xR-BHit4uk2c"
      }
    },
    {
      "cell_type": "code",
      "source": [
        "np.mean( arr1 )\n",
        "np.mean( arr2, axis=0)  #열별 계산\n",
        "np.mean( arr2, axis=1)  #행별 계산\n",
        "np.var( arr2 )\n",
        "np.var( arr2, axis=0)\n",
        "np.std( arr2, axis=1)\n"
      ],
      "metadata": {
        "colab": {
          "base_uri": "https://localhost:8080/"
        },
        "id": "gUvezJemuk77",
        "outputId": "5b7d6a62-6337-4d83-974f-99cebadf3183"
      },
      "execution_count": null,
      "outputs": [
        {
          "output_type": "execute_result",
          "data": {
            "text/plain": [
              "array([0.81649658, 0.81649658])"
            ]
          },
          "metadata": {},
          "execution_count": 44
        }
      ]
    },
    {
      "cell_type": "markdown",
      "source": [
        "10. numpy의 주요 함수2"
      ],
      "metadata": {
        "id": "Khu-gxwHulBc"
      }
    },
    {
      "cell_type": "code",
      "source": [
        "import numpy as np\n",
        "arr7 = np.random.randn(4,5) #4행5열짜리 난수로 구성된 2차원 array\n",
        "print(arr3)\n",
        "\n",
        "np.cov( arr3 )\n",
        "np.cov( arr3, rowvar=False) #컬럼단위 컬럼을 변수로 고려해서 \n",
        "#가능한 변수 조합들의 공분산 모두구함\n",
        "\n",
        "np.corrcoef( arr3 )\n",
        "np.corrcoef( arr3, rowvar=False)\n"
      ],
      "metadata": {
        "colab": {
          "base_uri": "https://localhost:8080/"
        },
        "id": "bsV7Oh7yulG1",
        "outputId": "e1ddf6dc-219f-45fa-e2af-6f4dc3d19a71"
      },
      "execution_count": null,
      "outputs": [
        {
          "output_type": "stream",
          "name": "stdout",
          "text": [
            "[[ 0.4171842  -1.1083044  -0.53996149 -0.72660266  0.59689671]\n",
            " [ 0.20939017 -0.03060102  0.87229618  0.92982004 -1.01706106]\n",
            " [ 0.25753616  0.30450546  0.36407933  0.58343391  1.50236258]\n",
            " [-0.03946382  0.28933956 -0.43078681 -0.04770682  1.21331977]]\n"
          ]
        },
        {
          "output_type": "execute_result",
          "data": {
            "text/plain": [
              "array([[ 1.        , -0.75805962,  0.03163753, -0.27107613, -0.1715574 ],\n",
              "       [-0.75805962,  1.        ,  0.44269495,  0.7137926 ,  0.21817648],\n",
              "       [ 0.03163753,  0.44269495,  1.        ,  0.94330661, -0.58972898],\n",
              "       [-0.27107613,  0.7137926 ,  0.94330661,  1.        , -0.39942236],\n",
              "       [-0.1715574 ,  0.21817648, -0.58972898, -0.39942236,  1.        ]])"
            ]
          },
          "metadata": {},
          "execution_count": 8
        }
      ]
    },
    {
      "cell_type": "code",
      "source": [
        "np.ones(36).reshape(6,6)[[0,3,5], 2:4]"
      ],
      "metadata": {
        "colab": {
          "base_uri": "https://localhost:8080/"
        },
        "id": "T-XUObPgE80d",
        "outputId": "5c73e3f1-fe46-424e-dc82-b97ee2e6f1cf"
      },
      "execution_count": null,
      "outputs": [
        {
          "output_type": "execute_result",
          "data": {
            "text/plain": [
              "array([[1., 1.],\n",
              "       [1., 1.],\n",
              "       [1., 1.]])"
            ]
          },
          "metadata": {},
          "execution_count": 9
        }
      ]
    }
  ]
}